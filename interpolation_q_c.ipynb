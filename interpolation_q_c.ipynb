{
  "nbformat": 4,
  "nbformat_minor": 0,
  "metadata": {
    "colab": {
      "provenance": [],
      "toc_visible": true,
      "authorship_tag": "ABX9TyMh2k4E3AOBfkJjHxHtTGiI",
      "include_colab_link": true
    },
    "kernelspec": {
      "name": "python3",
      "display_name": "Python 3"
    },
    "language_info": {
      "name": "python"
    }
  },
  "cells": [
    {
      "cell_type": "markdown",
      "metadata": {
        "id": "view-in-github",
        "colab_type": "text"
      },
      "source": [
        "<a href=\"https://colab.research.google.com/github/kasuti4327/assignment/blob/main/interpolation_q_c.ipynb\" target=\"_parent\"><img src=\"https://colab.research.google.com/assets/colab-badge.svg\" alt=\"Open In Colab\"/></a>"
      ]
    },
    {
      "cell_type": "code",
      "execution_count": null,
      "metadata": {
        "colab": {
          "base_uri": "https://localhost:8080/"
        },
        "id": "Qw9rZ4BywqtN",
        "outputId": "b495552e-cc0d-46f1-c775-65315e8a4296"
      },
      "outputs": [
        {
          "output_type": "stream",
          "name": "stdout",
          "text": [
            "Interpolated y value at x = 4.0: 7.111111111111111\n"
          ]
        }
      ],
      "source": [
        "import numpy as np\n",
        "\n",
        "x = np.array([2.00, 4.25, 5.25, 7.81, 9.20, 10.60])\n",
        "y = np.array([7.2, 7.1, 6.0, 5.0, 3.5, 5.0])\n",
        "\n",
        "def linear_interpolation(x, y, x_interp):\n",
        "    i = np.searchsorted(x, x_interp) - 1\n",
        "    return y[i] + (y[i+1] - y[i]) * (x_interp - x[i]) / (x[i+1] - x[i])\n",
        "\n",
        "y_interp = linear_interpolation(x, y, 4.0)\n",
        "print(f\"Interpolated y value at x = 4.0: {y_interp}\")\n"
      ]
    }
  ]
}