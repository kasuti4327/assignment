{
  "nbformat": 4,
  "nbformat_minor": 0,
  "metadata": {
    "colab": {
      "provenance": [],
      "authorship_tag": "ABX9TyMyccBVVlDa8u4DcOhZmXGI",
      "include_colab_link": true
    },
    "kernelspec": {
      "name": "python3",
      "display_name": "Python 3"
    },
    "language_info": {
      "name": "python"
    }
  },
  "cells": [
    {
      "cell_type": "markdown",
      "metadata": {
        "id": "view-in-github",
        "colab_type": "text"
      },
      "source": [
        "<a href=\"https://colab.research.google.com/github/kasuti4327/assignment/blob/main/eigenvalues.ipynb\" target=\"_parent\"><img src=\"https://colab.research.google.com/assets/colab-badge.svg\" alt=\"Open In Colab\"/></a>"
      ]
    },
    {
      "cell_type": "code",
      "execution_count": null,
      "metadata": {
        "colab": {
          "base_uri": "https://localhost:8080/"
        },
        "id": "h2n6jMKYWZsD",
        "outputId": "be798ee0-19f4-4108-8cb4-b9a30d98e2a1"
      },
      "outputs": [
        {
          "output_type": "stream",
          "name": "stdout",
          "text": [
            "Power Iteration Method:\n",
            "Dominant Eigenvalue: 4.675130870566646\n",
            "Corresponding Eigenvector: [0.88765034 0.42713229 0.17214786]\n"
          ]
        }
      ],
      "source": [
        "import numpy as np\n",
        "\n",
        "def power_iteration(A, num_iterations=1000):\n",
        "    \"\"\"\n",
        "    Power Iteration Method to find the dominant eigenvalue and eigenvector.\n",
        "    \"\"\"\n",
        "    n = A.shape[0]\n",
        "    x = np.random.rand(n)  # Initialize random vector\n",
        "\n",
        "    for _ in range(num_iterations):\n",
        "        x = A @ x\n",
        "        x = x / np.linalg.norm(x)  # Normalize vector\n",
        "\n",
        "    eigenvalue = (x.T @ A @ x) / (x.T @ x)  # Rayleigh quotient\n",
        "    return eigenvalue, x\n",
        "\n",
        "A = np.array([[4, 1, 1],\n",
        "              [1, 3, -1],\n",
        "              [1, -1, 2]])\n",
        "\n",
        "eigenvalue, eigenvector = power_iteration(A)\n",
        "print(\"Power Iteration Method:\")\n",
        "print(f\"Dominant Eigenvalue: {eigenvalue}\")\n",
        "print(f\"Corresponding Eigenvector: {eigenvector}\")"
      ]
    }
  ]
}