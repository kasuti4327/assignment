{
  "nbformat": 4,
  "nbformat_minor": 0,
  "metadata": {
    "colab": {
      "provenance": [],
      "authorship_tag": "ABX9TyOOIFxlgyxk4TTEn0VKpM1v",
      "include_colab_link": true
    },
    "kernelspec": {
      "name": "python3",
      "display_name": "Python 3"
    },
    "language_info": {
      "name": "python"
    }
  },
  "cells": [
    {
      "cell_type": "markdown",
      "metadata": {
        "id": "view-in-github",
        "colab_type": "text"
      },
      "source": [
        "<a href=\"https://colab.research.google.com/github/kasuti4327/assignment/blob/main/newton's_method.ipynb\" target=\"_parent\"><img src=\"https://colab.research.google.com/assets/colab-badge.svg\" alt=\"Open In Colab\"/></a>"
      ]
    },
    {
      "cell_type": "code",
      "execution_count": null,
      "metadata": {
        "colab": {
          "base_uri": "https://localhost:8080/"
        },
        "id": "em2IKB1LztRF",
        "outputId": "61a321b8-d5ac-45a3-9b2b-7ce92e3fa6fb"
      },
      "outputs": [
        {
          "output_type": "stream",
          "name": "stdout",
          "text": [
            "Iteration 1: x = 0.02100884913734513, Error = 46.59899000000002\n",
            "Iteration 2: x = 0.10124472340842901, Error = 0.7924943796567667\n",
            "Iteration 3: x = 0.10221459591498423, Error = 0.00948859111434442\n",
            "Estimated depth: 0.10221459591498423 meters\n"
          ]
        }
      ],
      "source": [
        " def f(x):\n",
        "    return 1.0 - 9.9331650 * x + 1.5 * x**2 - (1/3) * x**3\n",
        "\n",
        "def f_prime(x):\n",
        "    return -9.9331650 + 3 * x - x**2\n",
        "\n",
        "def newton_method(x0, iterations):\n",
        "    x = x0\n",
        "    for i in range(iterations):\n",
        "        x_new = x - f(x) / f_prime(x)\n",
        "        error = abs((x_new - x) / x_new)\n",
        "        print(f\"Iteration {i+1}: x = {x_new}, Error = {error}\")\n",
        "        x = x_new\n",
        "    return x\n",
        "\n",
        "# Starting with an initial guess of 1.0\n",
        "root = newton_method(1.0, 3)\n",
        "print(f\"Estimated depth: {root} meters\")\n"
      ]
    }
  ]
}