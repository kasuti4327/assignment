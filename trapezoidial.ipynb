{
  "nbformat": 4,
  "nbformat_minor": 0,
  "metadata": {
    "colab": {
      "provenance": [],
      "authorship_tag": "ABX9TyPnnyf8SYb1qpyedn6oZebL",
      "include_colab_link": true
    },
    "kernelspec": {
      "name": "python3",
      "display_name": "Python 3"
    },
    "language_info": {
      "name": "python"
    }
  },
  "cells": [
    {
      "cell_type": "markdown",
      "metadata": {
        "id": "view-in-github",
        "colab_type": "text"
      },
      "source": [
        "<a href=\"https://colab.research.google.com/github/kasuti4327/assignment/blob/main/trapezoidial.ipynb\" target=\"_parent\"><img src=\"https://colab.research.google.com/assets/colab-badge.svg\" alt=\"Open In Colab\"/></a>"
      ]
    },
    {
      "cell_type": "code",
      "execution_count": null,
      "metadata": {
        "colab": {
          "base_uri": "https://localhost:8080/"
        },
        "id": "GT-ZoEsH3d2j",
        "outputId": "b6c6b807-2fe9-47c1-e137-5bbe3ec1d6ab"
      },
      "outputs": [
        {
          "output_type": "stream",
          "name": "stdout",
          "text": [
            "Integral of x^2 from 0 to 1: 0.33335000000000004\n"
          ]
        }
      ],
      "source": [
        " import numpy as np\n",
        "\n",
        "def trapezoidal_rule(f, a, b, n):\n",
        "    x = np.linspace(a, b, n+1)\n",
        "    y = f(x)\n",
        "    return (b-a)/n * (0.5*y[0] + 0.5*y[-1] + np.sum(y[1:-1]))\n",
        "\n",
        "# Example usage\n",
        "def f(x):\n",
        "    return x**2\n",
        "\n",
        "a, b = 0, 1  # integration limits\n",
        "n = 100  # number of trapezoids\n",
        "\n",
        "result = trapezoidal_rule(f, a, b, n)\n",
        "print(f\"Integral of x^2 from 0 to 1: {result}\")\n"
      ]
    },
    {
      "cell_type": "code",
      "source": [],
      "metadata": {
        "id": "Jly9eVXRnxZh"
      },
      "execution_count": null,
      "outputs": []
    }
  ]
}